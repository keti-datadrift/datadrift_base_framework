{
 "cells": [
  {
   "cell_type": "markdown",
   "id": "79d11337-54c4-4093-856d-6f1d7aa8bca3",
   "metadata": {},
   "source": [
    "# 데이터 드리프트 전처리/학습/검증 파이프라인 구축\n",
    "\n",
    "- JPark"
   ]
  },
  {
   "cell_type": "markdown",
   "id": "510cfb56-dbd9-4aa1-a6a4-0d2974b40d19",
   "metadata": {},
   "source": [
    "## 작업 폴더 설정 "
   ]
  },
  {
   "cell_type": "code",
   "execution_count": 3,
   "id": "479ba617-56f6-45fb-8fa4-eed630c47266",
   "metadata": {},
   "outputs": [],
   "source": [
    "import os\n",
    "os.chdir('../')"
   ]
  },
  {
   "cell_type": "markdown",
   "id": "59bea302-1255-4ddf-a9ac-16999b1b663e",
   "metadata": {},
   "source": [
    "## data.csv"
   ]
  },
  {
   "cell_type": "code",
   "execution_count": 8,
   "id": "ede3f8a1-06e7-4dbd-9bb6-1407cd0adfcb",
   "metadata": {},
   "outputs": [
    {
     "data": {
      "text/html": [
       "<div>\n",
       "<style scoped>\n",
       "    .dataframe tbody tr th:only-of-type {\n",
       "        vertical-align: middle;\n",
       "    }\n",
       "\n",
       "    .dataframe tbody tr th {\n",
       "        vertical-align: top;\n",
       "    }\n",
       "\n",
       "    .dataframe thead th {\n",
       "        text-align: right;\n",
       "    }\n",
       "</style>\n",
       "<table border=\"1\" class=\"dataframe\">\n",
       "  <thead>\n",
       "    <tr style=\"text-align: right;\">\n",
       "      <th></th>\n",
       "      <th>feature1</th>\n",
       "      <th>feature2</th>\n",
       "      <th>feature3</th>\n",
       "      <th>label</th>\n",
       "    </tr>\n",
       "  </thead>\n",
       "  <tbody>\n",
       "    <tr>\n",
       "      <th>0</th>\n",
       "      <td>5.623620</td>\n",
       "      <td>2.603363</td>\n",
       "      <td>1.844675</td>\n",
       "      <td>0</td>\n",
       "    </tr>\n",
       "    <tr>\n",
       "      <th>1</th>\n",
       "      <td>7.352143</td>\n",
       "      <td>3.562709</td>\n",
       "      <td>2.392952</td>\n",
       "      <td>1</td>\n",
       "    </tr>\n",
       "    <tr>\n",
       "      <th>2</th>\n",
       "      <td>6.695982</td>\n",
       "      <td>3.581270</td>\n",
       "      <td>1.885052</td>\n",
       "      <td>1</td>\n",
       "    </tr>\n",
       "    <tr>\n",
       "      <th>3</th>\n",
       "      <td>6.295975</td>\n",
       "      <td>3.774860</td>\n",
       "      <td>1.443513</td>\n",
       "      <td>1</td>\n",
       "    </tr>\n",
       "    <tr>\n",
       "      <th>4</th>\n",
       "      <td>4.968056</td>\n",
       "      <td>3.952183</td>\n",
       "      <td>1.603179</td>\n",
       "      <td>0</td>\n",
       "    </tr>\n",
       "    <tr>\n",
       "      <th>...</th>\n",
       "      <td>...</td>\n",
       "      <td>...</td>\n",
       "      <td>...</td>\n",
       "      <td>...</td>\n",
       "    </tr>\n",
       "    <tr>\n",
       "      <th>295</th>\n",
       "      <td>6.066730</td>\n",
       "      <td>3.447923</td>\n",
       "      <td>2.024921</td>\n",
       "      <td>1</td>\n",
       "    </tr>\n",
       "    <tr>\n",
       "      <th>296</th>\n",
       "      <td>6.809981</td>\n",
       "      <td>3.835115</td>\n",
       "      <td>2.465739</td>\n",
       "      <td>1</td>\n",
       "    </tr>\n",
       "    <tr>\n",
       "      <th>297</th>\n",
       "      <td>5.147463</td>\n",
       "      <td>2.844640</td>\n",
       "      <td>5.481679</td>\n",
       "      <td>0</td>\n",
       "    </tr>\n",
       "    <tr>\n",
       "      <th>298</th>\n",
       "      <td>6.368671</td>\n",
       "      <td>2.884578</td>\n",
       "      <td>1.065010</td>\n",
       "      <td>1</td>\n",
       "    </tr>\n",
       "    <tr>\n",
       "      <th>299</th>\n",
       "      <td>4.756042</td>\n",
       "      <td>2.581737</td>\n",
       "      <td>1.427543</td>\n",
       "      <td>0</td>\n",
       "    </tr>\n",
       "  </tbody>\n",
       "</table>\n",
       "<p>300 rows × 4 columns</p>\n",
       "</div>"
      ],
      "text/plain": [
       "     feature1  feature2  feature3  label\n",
       "0    5.623620  2.603363  1.844675      0\n",
       "1    7.352143  3.562709  2.392952      1\n",
       "2    6.695982  3.581270  1.885052      1\n",
       "3    6.295975  3.774860  1.443513      1\n",
       "4    4.968056  3.952183  1.603179      0\n",
       "..        ...       ...       ...    ...\n",
       "295  6.066730  3.447923  2.024921      1\n",
       "296  6.809981  3.835115  2.465739      1\n",
       "297  5.147463  2.844640  5.481679      0\n",
       "298  6.368671  2.884578  1.065010      1\n",
       "299  4.756042  2.581737  1.427543      0\n",
       "\n",
       "[300 rows x 4 columns]"
      ]
     },
     "execution_count": 8,
     "metadata": {},
     "output_type": "execute_result"
    }
   ],
   "source": [
    "import pandas as pd\n",
    "data = pd.read_csv(\"data/raw/data.csv\")\n",
    "data"
   ]
  },
  {
   "cell_type": "markdown",
   "id": "c8b94481-103a-4280-b14e-95a5f8b53c44",
   "metadata": {},
   "source": [
    "## preprocess.py"
   ]
  },
  {
   "cell_type": "code",
   "execution_count": 9,
   "id": "2274fb3c-8f5a-457f-a4a4-f534f3012040",
   "metadata": {},
   "outputs": [
    {
     "name": "stdout",
     "output_type": "stream",
     "text": [
      "✅ Data preprocessing complete! Train and test sets saved.\n"
     ]
    }
   ],
   "source": [
    "\n",
    "import pandas as pd\n",
    "from sklearn.model_selection import train_test_split\n",
    "\n",
    "# 데이터 로드\n",
    "data = pd.read_csv(\"data/raw/data.csv\")\n",
    "\n",
    "# 데이터 분할 (80% 학습, 20% 테스트)\n",
    "train, test = train_test_split(data, test_size=0.2, random_state=42)\n",
    "\n",
    "# 저장\n",
    "train.to_csv(\"data/processed/train.csv\", index=False)\n",
    "test.to_csv(\"data/processed/test.csv\", index=False)\n",
    "\n",
    "print(\"✅ Data preprocessing complete! Train and test sets saved.\")"
   ]
  },
  {
   "cell_type": "markdown",
   "id": "b4d53196-db35-44ec-aabf-8e2fe276afad",
   "metadata": {},
   "source": [
    "## train.py"
   ]
  },
  {
   "cell_type": "code",
   "execution_count": 10,
   "id": "832e2960-72e6-4081-a573-2715e0f3edbb",
   "metadata": {},
   "outputs": [
    {
     "name": "stdout",
     "output_type": "stream",
     "text": [
      "✅ Model training complete! Model saved as models/model.pkl\n"
     ]
    }
   ],
   "source": [
    "import pandas as pd\n",
    "import pickle\n",
    "from sklearn.linear_model import LogisticRegression\n",
    "\n",
    "# 데이터 로드\n",
    "train = pd.read_csv(\"data/processed/train.csv\")\n",
    "\n",
    "# 입력(X)과 출력(y) 분리\n",
    "X_train = train.drop(columns=[\"label\"])\n",
    "y_train = train[\"label\"]\n",
    "\n",
    "# 모델 학습\n",
    "model = LogisticRegression()\n",
    "model.fit(X_train, y_train)\n",
    "\n",
    "# 모델 저장\n",
    "with open(\"models/model.pkl\", \"wb\") as f:\n",
    "    pickle.dump(model, f)\n",
    "\n",
    "print(\"✅ Model training complete! Model saved as models/model.pkl\")"
   ]
  },
  {
   "cell_type": "markdown",
   "id": "430e3a0f-7913-48ca-bbc0-4ea39992c54a",
   "metadata": {},
   "source": [
    "## evaluate.py"
   ]
  },
  {
   "cell_type": "code",
   "execution_count": 11,
   "id": "53f66717-9443-44f3-aa7a-63d65dbdf08d",
   "metadata": {},
   "outputs": [
    {
     "name": "stdout",
     "output_type": "stream",
     "text": [
      "✅ Model evaluation complete! Accuracy: 0.9833\n"
     ]
    }
   ],
   "source": [
    "import pandas as pd\n",
    "import pickle\n",
    "import json\n",
    "from sklearn.metrics import accuracy_score\n",
    "\n",
    "# 데이터 로드\n",
    "test = pd.read_csv(\"data/processed/test.csv\")\n",
    "\n",
    "# 입력(X)과 출력(y) 분리\n",
    "X_test = test.drop(columns=[\"label\"])\n",
    "y_test = test[\"label\"]\n",
    "\n",
    "# 모델 로드\n",
    "with open(\"models/model.pkl\", \"rb\") as f:\n",
    "    model = pickle.load(f)\n",
    "\n",
    "# 예측 및 평가\n",
    "y_pred = model.predict(X_test)\n",
    "accuracy = accuracy_score(y_test, y_pred)\n",
    "\n",
    "# 평가 결과 저장\n",
    "metrics = {\"accuracy\": accuracy}\n",
    "with open(\"metrics.json\", \"w\") as f:\n",
    "    json.dump(metrics, f)\n",
    "\n",
    "print(f\"✅ Model evaluation complete! Accuracy: {accuracy:.4f}\")"
   ]
  },
  {
   "cell_type": "code",
   "execution_count": null,
   "id": "15f93bd1-1234-4aca-9c00-046a6b12eaa5",
   "metadata": {},
   "outputs": [],
   "source": []
  }
 ],
 "metadata": {
  "kernelspec": {
   "display_name": "venv_base",
   "language": "python",
   "name": "venv_base"
  },
  "language_info": {
   "codemirror_mode": {
    "name": "ipython",
    "version": 3
   },
   "file_extension": ".py",
   "mimetype": "text/x-python",
   "name": "python",
   "nbconvert_exporter": "python",
   "pygments_lexer": "ipython3",
   "version": "3.10.12"
  }
 },
 "nbformat": 4,
 "nbformat_minor": 5
}
