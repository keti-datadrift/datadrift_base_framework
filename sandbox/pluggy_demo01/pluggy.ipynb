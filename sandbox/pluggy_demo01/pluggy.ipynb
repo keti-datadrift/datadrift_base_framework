{
 "cells": [
  {
   "cell_type": "code",
   "execution_count": 2,
   "id": "b883383a-4e87-4291-94b4-31d3faeb687b",
   "metadata": {},
   "outputs": [
    {
     "name": "stdout",
     "output_type": "stream",
     "text": [
      "inside Plugin_3.myhook()\n",
      "inside Plugin_2.myhook()\n",
      "inside Plugin_1.myhook()\n",
      "[2, -1, 3]\n"
     ]
    }
   ],
   "source": [
    "import pluggy\n",
    "\n",
    "hookspec = pluggy.HookspecMarker(\"myproject\")\n",
    "hookimpl = pluggy.HookimplMarker(\"myproject\")\n",
    "\n",
    "\n",
    "class MySpec:\n",
    "    \"\"\"A hook specification namespace.\"\"\"\n",
    "\n",
    "    @hookspec\n",
    "    def myhook(self, arg1, arg2):\n",
    "        \"\"\"My special little hook that you can customize.\"\"\"\n",
    "\n",
    "\n",
    "class Plugin_1:\n",
    "    \"\"\"A hook implementation namespace.\"\"\"\n",
    "\n",
    "    @hookimpl\n",
    "    def myhook(self, arg1, arg2):\n",
    "        print(\"inside Plugin_1.myhook()\")\n",
    "        return arg1 + arg2\n",
    "\n",
    "\n",
    "class Plugin_2:\n",
    "    \"\"\"A 2nd hook implementation namespace.\"\"\"\n",
    "\n",
    "    @hookimpl\n",
    "    def myhook(self, arg1, arg2):\n",
    "        print(\"inside Plugin_2.myhook()\")\n",
    "        return arg1 - arg2\n",
    "\n",
    "class Plugin_3:\n",
    "    \"\"\"A 3rd hook implementation namespace.\"\"\"\n",
    "\n",
    "    @hookimpl\n",
    "    def myhook(self, arg1, arg2):\n",
    "        print(\"inside Plugin_3.myhook()\")\n",
    "        return arg1 * arg2\n",
    "\n",
    "# create a manager and add the spec\n",
    "pm = pluggy.PluginManager(\"myproject\")\n",
    "pm.add_hookspecs(MySpec)\n",
    "\n",
    "# register plugins\n",
    "pm.register(Plugin_1())\n",
    "pm.register(Plugin_2())\n",
    "pm.register(Plugin_3())\n",
    "\n",
    "# call our ``myhook`` hook\n",
    "results = pm.hook.myhook(arg1=1, arg2=2)\n",
    "print(results)"
   ]
  },
  {
   "cell_type": "code",
   "execution_count": null,
   "id": "e895c1ea-915e-487b-9c41-9b256f7048fd",
   "metadata": {},
   "outputs": [],
   "source": []
  }
 ],
 "metadata": {
  "kernelspec": {
   "display_name": "base(conda)",
   "language": "python",
   "name": "base"
  },
  "language_info": {
   "codemirror_mode": {
    "name": "ipython",
    "version": 3
   },
   "file_extension": ".py",
   "mimetype": "text/x-python",
   "name": "python",
   "nbconvert_exporter": "python",
   "pygments_lexer": "ipython3",
   "version": "3.12.8"
  }
 },
 "nbformat": 4,
 "nbformat_minor": 5
}
