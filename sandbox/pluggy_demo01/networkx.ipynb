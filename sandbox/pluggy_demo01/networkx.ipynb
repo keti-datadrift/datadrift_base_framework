{
 "cells": [
  {
   "cell_type": "code",
   "execution_count": 1,
   "id": "3fc499ae-541c-48f8-9a70-4305be32873f",
   "metadata": {},
   "outputs": [],
   "source": [
    "import networkx as nx\n",
    "\n",
    "# 그래프 객체 생성\n",
    "flow_graph = nx.DiGraph()\n",
    "\n",
    "# 모듈(노드) 추가. 각 노드에는 고유 ID와 모듈 타입 정보가 담깁니다.\n",
    "flow_graph.add_node(\"node_1\", type=\"csv_reader\", params={})\n",
    "flow_graph.add_node(\"node_2\", type=\"data_filter\", params={\"column\": \"A\", \"value\": 2})\n",
    "\n",
    "# 모듈 간 연결(엣지) 추가\n",
    "flow_graph.add_edge(\"node_1\", \"node_2\")"
   ]
  },
  {
   "cell_type": "code",
   "execution_count": null,
   "id": "7915e5d9-dda4-449b-af07-5b6cd5dde4c7",
   "metadata": {},
   "outputs": [],
   "source": []
  }
 ],
 "metadata": {
  "kernelspec": {
   "display_name": "base(conda)",
   "language": "python",
   "name": "base"
  },
  "language_info": {
   "codemirror_mode": {
    "name": "ipython",
    "version": 3
   },
   "file_extension": ".py",
   "mimetype": "text/x-python",
   "name": "python",
   "nbconvert_exporter": "python",
   "pygments_lexer": "ipython3",
   "version": "3.12.8"
  }
 },
 "nbformat": 4,
 "nbformat_minor": 5
}
