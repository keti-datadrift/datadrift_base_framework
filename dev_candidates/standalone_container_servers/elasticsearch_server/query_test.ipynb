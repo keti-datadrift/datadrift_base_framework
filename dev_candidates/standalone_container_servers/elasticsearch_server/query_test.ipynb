{
 "cells": [
  {
   "cell_type": "code",
   "execution_count": 2,
   "id": "2ae08191-3540-4e0b-b558-c246f3259338",
   "metadata": {},
   "outputs": [
    {
     "name": "stdout",
     "output_type": "stream",
     "text": [
      "오류: Logstash (localhost:5000)에 연결할 수 없습니다. Logstash가 실행 중인지 확인하세요.\n"
     ]
    }
   ],
   "source": [
    "# send_log.py\n",
    "import socket\n",
    "import json\n",
    "import time\n",
    "\n",
    "LOGSTASH_HOST = 'localhost' # Docker Compose 네트워크 외부에서 접근할 때\n",
    "LOGSTASH_PORT = 5000 # Logstash TCP 입력 포트\n",
    "\n",
    "log_message = {\n",
    "    \"level\": \"info\",\n",
    "    \"message\": f\"Hello from Python at {time.time()}\",\n",
    "    \"app\": \"python_test_script\",\n",
    "    \"timestamp\": int(time.time() * 1000) # 밀리초 단위\n",
    "}\n",
    "\n",
    "try:\n",
    "    with socket.socket(socket.AF_INET, socket.SOCK_STREAM) as s:\n",
    "        s.connect((LOGSTASH_HOST, LOGSTASH_PORT))\n",
    "        s.sendall(json.dumps(log_message).encode('utf-8') + b'\\n') # 각 메시지 끝에 개행 문자 추가\n",
    "    print(f\"로그 전송 성공: {log_message}\")\n",
    "except ConnectionRefusedError:\n",
    "    print(f\"오류: Logstash ({LOGSTASH_HOST}:{LOGSTASH_PORT})에 연결할 수 없습니다. Logstash가 실행 중인지 확인하세요.\")\n",
    "except Exception as e:\n",
    "    print(f\"로그 전송 중 오류 발생: {e}\")"
   ]
  },
  {
   "cell_type": "code",
   "execution_count": null,
   "id": "94cbbc12-342d-46f2-b5ec-213093eeaf7e",
   "metadata": {},
   "outputs": [],
   "source": []
  }
 ],
 "metadata": {
  "kernelspec": {
   "display_name": "venv_base",
   "language": "python",
   "name": "venv_base"
  },
  "language_info": {
   "codemirror_mode": {
    "name": "ipython",
    "version": 3
   },
   "file_extension": ".py",
   "mimetype": "text/x-python",
   "name": "python",
   "nbconvert_exporter": "python",
   "pygments_lexer": "ipython3",
   "version": "3.10.12"
  }
 },
 "nbformat": 4,
 "nbformat_minor": 5
}
